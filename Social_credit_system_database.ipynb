{
 "cells": [
  {
   "cell_type": "code",
   "execution_count": 15,
   "metadata": {},
   "outputs": [
    {
     "name": "stdout",
     "output_type": "stream",
     "text": [
      "/Users/wayne/Dropbox/UMass Research/Social Credit System/China_SCS\n"
     ]
    }
   ],
   "source": [
    "#import nltk\n",
    "#nltk.__version__\n",
    "\n",
    "get_ipython().magic(u'pwd')\n",
    "get_ipython().magic(u'cd \"/Users/wayne/Dropbox/UMass Research/Social Credit System/China_SCS\"')\n",
    "\n",
    "import pandas as pd\n",
    "import os\n",
    "import glob\n",
    "from glob import glob as gg\n",
    "import re, datetime\n",
    "\n",
    "from collections import defaultdict\n",
    "\n",
    "import nltk\n",
    "from nltk.stem import PorterStemmer\n",
    "from nltk.stem import WordNetLemmatizer\n",
    "from nltk.tokenize import SpaceTokenizer\n",
    "from nltk.tokenize import sent_tokenize\n",
    "from nltk.corpus import stopwords\n",
    "\n",
    "#from functools import partial\n",
    "\n",
    "import re"
   ]
  },
  {
   "cell_type": "code",
   "execution_count": 109,
   "metadata": {
    "collapsed": true
   },
   "outputs": [],
   "source": [
    "df = open(\"2018.txt\").read().split(\"文章编号:\")"
   ]
  },
  {
   "cell_type": "code",
   "execution_count": 112,
   "metadata": {},
   "outputs": [],
   "source": [
    "data = pd.DataFrame(df)\n",
    "data.columns = ['raw_text']\n",
    "#data[\"title\"] = data[\"raw_text\"].apply(lambda x: x.split(\"\\n\\n\\n\\n\\n\")[1])\n",
    "data = data[~data['raw_text'].isnull()] "
   ]
  },
  {
   "cell_type": "code",
   "execution_count": 129,
   "metadata": {},
   "outputs": [],
   "source": [
    "for index, row in data[0:15].iterrows():\n",
    "    try:\n",
    "        data.loc[index, 'title'] = data.loc[index, 'raw_text'].split(\"\\n\\n\\n\\n\\n\")[1].strip()\n",
    "        data.loc[index, 'title'] = data.loc[index, 'title'].replace(\"\\n\\n\\n  \\n-----------------------------------------------------------------------------\", \"\")\n",
    "        data.loc[index, 'source'] = data.loc[index, 'title'].split(\"-\")[0].strip()\n",
    "        data.loc[index, 'link'] = data.loc[index, 'raw_text'].split(\"\\n\\n\\n\\n\\n\")[2].strip()\n",
    "        data.loc[index, 'link'] = data.loc[index, 'link'].replace(\"文字快照：\", \"\")\n",
    "        data.loc[index, 'content'] = data.loc[index, 'raw_text'].split(\"\\n\\n\\n\\n\\n\")[3].strip()\n",
    "        #data.loc[index, 'content'] = data.loc[index, 'content'].str.strip()\n",
    "        data.loc[index, 'date'] = datetime.datetime.strptime(re.search('\\d{4}-\\d{2}-\\d{2}', data.loc[index, 'title']).group(), '%Y-%m-%d').date()\n",
    "    except: pass"
   ]
  },
  {
   "cell_type": "code",
   "execution_count": 132,
   "metadata": {},
   "outputs": [
    {
     "data": {
      "text/html": [
       "<div>\n",
       "<style scoped>\n",
       "    .dataframe tbody tr th:only-of-type {\n",
       "        vertical-align: middle;\n",
       "    }\n",
       "\n",
       "    .dataframe tbody tr th {\n",
       "        vertical-align: top;\n",
       "    }\n",
       "\n",
       "    .dataframe thead th {\n",
       "        text-align: right;\n",
       "    }\n",
       "</style>\n",
       "<table border=\"1\" class=\"dataframe\">\n",
       "  <thead>\n",
       "    <tr style=\"text-align: right;\">\n",
       "      <th></th>\n",
       "      <th>raw_text</th>\n",
       "      <th>title</th>\n",
       "      <th>link</th>\n",
       "      <th>content</th>\n",
       "      <th>date</th>\n",
       "      <th>source</th>\n",
       "    </tr>\n",
       "  </thead>\n",
       "  <tbody>\n",
       "    <tr>\n",
       "      <th>0</th>\n",
       "      <td>\\n\\n\\n\\n\\n\\n1. 发改委财政金融司 -  (2018年财金司研究课题征集公告)...</td>\n",
       "      <td>1. 发改委财政金融司 -  (2018年财金司研究课题征集公告) 2018-03-31 (...</td>\n",
       "      <td>http://cjs.ndrc.gov.cn/gzdt/201803/t20180328_8...</td>\n",
       "      <td>加快社会信用体系建设是深入学习贯彻习近平新时代中国特色社会主义思想和党的十九大精神，完善社会...</td>\n",
       "      <td>2018-03-31</td>\n",
       "      <td>1. 发改委财政金融司</td>\n",
       "    </tr>\n",
       "    <tr>\n",
       "      <th>1</th>\n",
       "      <td>[201803313623291]\\n--------------------------...</td>\n",
       "      <td>2. 今日头条 -  (新邵县召开社会信用体系建设工作推进会议) 2018-03-31 (1...</td>\n",
       "      <td>https://www.toutiao.com/item/6539018117333385736/</td>\n",
       "      <td>邵阳新闻在线讯（通讯员 卿涛）3月28日，新邵县社会信用体系建设工作推进暨业务培训会议召开，...</td>\n",
       "      <td>2018-03-31</td>\n",
       "      <td>2. 今日头条</td>\n",
       "    </tr>\n",
       "    <tr>\n",
       "      <th>2</th>\n",
       "      <td>[201803314259335]\\n--------------------------...</td>\n",
       "      <td>3. 微信公众号 -  (【征稿】《信用法治研究》征稿启事) 2018-03-31 (19:...</td>\n",
       "      <td>http://mp.weixin.qq.com/s?__biz=MjM5NjMyNDM5Nw...</td>\n",
       "      <td>诚信，不仅是个人安身立命的根本，也是经济社会良序发展的基石。当前，诚信问题已成为我国社会治理...</td>\n",
       "      <td>2018-03-31</td>\n",
       "      <td>3. 微信公众号</td>\n",
       "    </tr>\n",
       "  </tbody>\n",
       "</table>\n",
       "</div>"
      ],
      "text/plain": [
       "                                            raw_text  \\\n",
       "0   \\n\\n\\n\\n\\n\\n1. 发改委财政金融司 -  (2018年财金司研究课题征集公告)...   \n",
       "1   [201803313623291]\\n--------------------------...   \n",
       "2   [201803314259335]\\n--------------------------...   \n",
       "\n",
       "                                               title  \\\n",
       "0  1. 发改委财政金融司 -  (2018年财金司研究课题征集公告) 2018-03-31 (...   \n",
       "1  2. 今日头条 -  (新邵县召开社会信用体系建设工作推进会议) 2018-03-31 (1...   \n",
       "2  3. 微信公众号 -  (【征稿】《信用法治研究》征稿启事) 2018-03-31 (19:...   \n",
       "\n",
       "                                                link  \\\n",
       "0  http://cjs.ndrc.gov.cn/gzdt/201803/t20180328_8...   \n",
       "1  https://www.toutiao.com/item/6539018117333385736/   \n",
       "2  http://mp.weixin.qq.com/s?__biz=MjM5NjMyNDM5Nw...   \n",
       "\n",
       "                                             content        date       source  \n",
       "0  加快社会信用体系建设是深入学习贯彻习近平新时代中国特色社会主义思想和党的十九大精神，完善社会...  2018-03-31  1. 发改委财政金融司  \n",
       "1  邵阳新闻在线讯（通讯员 卿涛）3月28日，新邵县社会信用体系建设工作推进暨业务培训会议召开，...  2018-03-31      2. 今日头条  \n",
       "2  诚信，不仅是个人安身立命的根本，也是经济社会良序发展的基石。当前，诚信问题已成为我国社会治理...  2018-03-31     3. 微信公众号  "
      ]
     },
     "execution_count": 132,
     "metadata": {},
     "output_type": "execute_result"
    }
   ],
   "source": [
    "data.head(3)"
   ]
  }
 ],
 "metadata": {
  "kernelspec": {
   "display_name": "Python 3",
   "language": "python",
   "name": "python3"
  },
  "language_info": {
   "codemirror_mode": {
    "name": "ipython",
    "version": 3
   },
   "file_extension": ".py",
   "mimetype": "text/x-python",
   "name": "python",
   "nbconvert_exporter": "python",
   "pygments_lexer": "ipython3",
   "version": "3.6.1"
  }
 },
 "nbformat": 4,
 "nbformat_minor": 2
}
